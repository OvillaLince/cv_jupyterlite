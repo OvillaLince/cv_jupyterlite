{
 "cells": [
  {
   "cell_type": "markdown",
   "id": "ad029ab6-09b2-4f7a-bf65-8c4fdae36274",
   "metadata": {},
   "source": [
    "# Term Exam 2\n",
    "## Octavio Villalaz"
   ]
  },
  {
   "cell_type": "code",
   "execution_count": 1,
   "id": "23d388ce-5cbe-40b4-a4a8-15fb75d29ea6",
   "metadata": {},
   "outputs": [
    {
     "name": "stderr",
     "output_type": "stream",
     "text": [
      "Type 'citation(\"pROC\")' for a citation.\n",
      "\n",
      "\n",
      "Attaching package: 'pROC'\n",
      "\n",
      "\n",
      "The following objects are masked from 'package:stats':\n",
      "\n",
      "    cov, smooth, var\n",
      "\n",
      "\n"
     ]
    },
    {
     "data": {
      "text/plain": [
       "\n",
       "Call:\n",
       "glm(formula = bron ~ cigs + poll, family = binomial(), data = csv_data)\n",
       "\n",
       "Deviance Residuals: \n",
       "    Min       1Q   Median       3Q      Max  \n",
       "-2.4023  -0.5606  -0.4260  -0.3155   2.3594  \n",
       "\n",
       "Coefficients:\n",
       "             Estimate Std. Error z value Pr(>|z|)    \n",
       "(Intercept) -10.08491    2.95100  -3.417 0.000632 ***\n",
       "cigs          0.21169    0.03813   5.552 2.83e-08 ***\n",
       "poll          0.13176    0.04895   2.692 0.007113 ** \n",
       "---\n",
       "Signif. codes:  0 '***' 0.001 '**' 0.01 '*' 0.05 '.' 0.1 ' ' 1\n",
       "\n",
       "(Dispersion parameter for binomial family taken to be 1)\n",
       "\n",
       "    Null deviance: 221.78  on 211  degrees of freedom\n",
       "Residual deviance: 174.21  on 209  degrees of freedom\n",
       "AIC: 180.21\n",
       "\n",
       "Number of Fisher Scoring iterations: 5\n"
      ]
     },
     "metadata": {},
     "output_type": "display_data"
    },
    {
     "name": "stderr",
     "output_type": "stream",
     "text": [
      "Setting levels: control = 0, case = 1\n",
      "\n",
      "Setting direction: controls < cases\n",
      "\n"
     ]
    },
    {
     "data": {
      "text/html": [
       "0.843308014667365"
      ],
      "text/latex": [
       "0.843308014667365"
      ],
      "text/markdown": [
       "0.843308014667365"
      ],
      "text/plain": [
       "Area under the curve: 0.8433"
      ]
     },
     "metadata": {},
     "output_type": "display_data"
    },
    {
     "data": {
      "image/png": "[encoded data removed]",
      "text/plain": [
       "plot without title"
      ]
     },
     "metadata": {
      "image/png": {
       "height": 420,
       "width": 420
      }
     },
     "output_type": "display_data"
    }
   ],
   "source": [
    "#1)\n",
    "library(readr)\n",
    "library(pROC)\n",
    "library(ggplot2)\n",
    "\n",
    "csv_data <- read_csv(\"Bronchitis.csv\", show_col_types = FALSE)\n",
    "\n",
    "model <- glm(bron ~ cigs + poll, data = csv_data, family = binomial())\n",
    "summary(model)\n",
    "csv_data$predicted_prob <- predict(model, type = \"response\")\n",
    "\n",
    "#ROC curve and AUC\n",
    "roc_obj <- roc(csv_data$bron, csv_data$predicted_prob)\n",
    "auc(roc_obj)\n",
    "\n",
    "# Plot ROC curve\n",
    "ggroc(roc_obj) +\n",
    "  ggtitle(paste(\"ROC Curve (AUC =\", round(auc(roc_obj), 2), \")\")) +\n",
    "  theme_minimal()\n"
   ]
  },
  {
   "cell_type": "markdown",
   "id": "e3abb6b3-683d-43fa-9b0c-70cd493b937b",
   "metadata": {},
   "source": [
    "Statistical Significance: Both smoking (cigs) and pollution (poll) are statistically significant predictors of bronchitis.\n",
    "</br>\n",
    "Model Fit: The logistic regression model fits the data well, as evidenced by the significant LLR p-value.\n",
    "</br>\n",
    "Model Performance: The AUC value of 0.843 suggests that the model has good discriminatory ability in distinguishing between participants with and without bronchitis."
   ]
  },
  {
   "cell_type": "code",
   "execution_count": 2,
   "id": "787abb44-e547-4d13-b197-3aac2c5ad243",
   "metadata": {},
   "outputs": [
    {
     "name": "stderr",
     "output_type": "stream",
     "text": [
      "\n",
      "Attaching package: 'dplyr'\n",
      "\n",
      "\n",
      "The following objects are masked from 'package:stats':\n",
      "\n",
      "    filter, lag\n",
      "\n",
      "\n",
      "The following objects are masked from 'package:base':\n",
      "\n",
      "    intersect, setdiff, setequal, union\n",
      "\n",
      "\n",
      "\n",
      "Attaching package: 'psych'\n",
      "\n",
      "\n",
      "The following objects are masked from 'package:ggplot2':\n",
      "\n",
      "    %+%, alpha\n",
      "\n",
      "\n"
     ]
    },
    {
     "name": "stdout",
     "output_type": "stream",
     "text": [
      "      ID         PC1\n",
      "1  ST-04  2.22142461\n",
      "2  ST-13  1.80765851\n",
      "3  ST-20  1.68171966\n",
      "4  ST-24  0.97499632\n",
      "5  ST-23  0.45825051\n",
      "6  ST-14  0.45378434\n",
      "7  ST-02  0.45137096\n",
      "8  ST-16  0.42106246\n",
      "9  ST-05  0.35462102\n",
      "10 ST-12  0.21679834\n",
      "11 ST-21  0.06015555\n",
      "12 ST-07  0.04933900\n",
      "13 ST-11 -0.05041742\n",
      "14 ST-08 -0.05200547\n",
      "15 ST-17 -0.11489416\n",
      "16 ST-15 -0.16602559\n",
      "17 ST-19 -0.19583666\n",
      "18 ST-01 -0.31879609\n",
      "19 ST-22 -0.61913997\n",
      "20 ST-03 -0.75039772\n",
      "21 ST-06 -1.09146683\n",
      "22 ST-10 -1.14201585\n",
      "23 ST-09 -1.28703540\n",
      "24 ST-25 -1.45429134\n",
      "25 ST-18 -1.90885876\n",
      "[1] \"PC1 = 0.895855476890976 * DifGeo + 0.881966029292616 * CompAn + 0.932910183377286 * Alg + 0.898143157994253 * RealAn + 0.907609958162356 * Stat\"\n"
     ]
    },
    {
     "data": {
      "image/png": "[encoded data removed]",
      "text/plain": [
       "Plot with title \"PCA of Student Scores\""
      ]
     },
     "metadata": {
      "image/png": {
       "height": 420,
       "width": 420
      }
     },
     "output_type": "display_data"
    }
   ],
   "source": [
    "#2)\n",
    "library(readr)\n",
    "library(dplyr)\n",
    "library(psych)\n",
    "\n",
    "students_scores <- data.frame(\n",
    "  ID = c('ST-01','ST-02','ST-03','ST-04','ST-05','ST-06','ST-07','ST-08','ST-09','ST-10','ST-11','ST-12','ST-13','ST-14','ST-15',\n",
    "        'ST-16','ST-17','ST-18','ST-19','ST-20','ST-21','ST-22','ST-23','ST-24','ST-25'),\n",
    "  DifGeo = c(36, 62, 31, 76, 46, 12, 39, 30, 22, 9, 32, 40, 64, 36, 24, 50, 42, 2, 56, 59, 28, 19, 36, 54, 14),\n",
    "  CompAn = c(58, 54, 42, 78, 56, 42, 46, 51, 32, 40, 49, 62, 75, 38, 46, 50, 42, 35, 53, 72, 50, 46, 56, 57, 35),\n",
    "  Alg = c(43, 50, 41, 69, 52, 38, 51, 54, 43, 47, 54, 51, 70, 58, 44, 54, 52, 32, 42, 70, 50, 49, 56, 59, 38),\n",
    "  RealAn = c(36, 46, 40, 66, 56, 38, 54, 52, 28, 30, 37, 40, 66, 62, 55, 52, 38, 22, 40, 66, 42, 40, 54, 62, 29),\n",
    "  Stat = c(37, 52, 29, 81, 40, 28, 41, 32, 22, 24, 52, 49, 63, 62, 49, 51, 50, 16, 32, 62, 63, 30, 52, 58, 20)\n",
    ")\n",
    "scores <- students_scores[, -1]\n",
    "\n",
    "# Perform PCA\n",
    "pca_result <- principal(scores, nfactors = 1, rotate = \"none\")\n",
    "# Get the principal component scores\n",
    "pca_scores <- data.frame(ID = students_scores$ID, PC1 = pca_result$scores)\n",
    "pca_scores <- pca_scores %>% arrange(desc(PC1))\n",
    "print(pca_scores)\n",
    "\n",
    "\n",
    "loadings <- pca_result$loadings\n",
    "loadings_vector <- loadings[,1]\n",
    "subjects <- colnames(scores)\n",
    "formula <- paste(\"PC1 =\", paste(paste(loadings_vector, \"*\", subjects), collapse = \" + \"))\n",
    "print(formula)\n",
    "\n",
    "# Plot PCA\n",
    "biplot(pca_result, main = \"PCA of Student Scores\")"
   ]
  },
  {
   "cell_type": "code",
   "execution_count": 3,
   "id": "48d6f7b8-4a9a-43f7-9888-d0e58c50e4c7",
   "metadata": {},
   "outputs": [
    {
     "data": {
      "image/png": "[encoded data removed]",
      "text/plain": [
       "plot without title"
      ]
     },
     "metadata": {
      "image/png": {
       "height": 420,
       "width": 420
      }
     },
     "output_type": "display_data"
    }
   ],
   "source": [
    "#3)\n",
    "library(ggplot2)\n",
    "library(psych)\n",
    "\n",
    "data <- data.frame(\n",
    "  X = c(-3, 1, 0, 3, 1, 7, 6, 8, 7, 10),\n",
    "  Y = c(7, 4, 6, 5, 9, 7, 9, 10, 12, 11)\n",
    ")\n",
    "pca_result <- principal(data, nfactors = 2, rotate = \"none\")\n",
    "lm_result <- lm(Y ~ X, data = data)\n",
    "\n",
    "# Regression line\n",
    "regression_line <- data.frame(\n",
    "  X = data$X,\n",
    "  Y = predict(lm_result)\n",
    ")\n",
    "\n",
    "#First principal component line\n",
    "mean_data <- colMeans(data)\n",
    "pca_slope <- pca_result$loadings[2,1] / pca_result$loadings[1,1]\n",
    "pca_intercept <- mean_data[2] - pca_slope * mean_data[1]\n",
    "\n",
    "pc1_line <- data.frame(\n",
    "  X = seq(min(data$X), max(data$X), length.out = 100),\n",
    "  Y = pca_slope * seq(min(data$X), max(data$X), length.out = 100) + pca_intercept\n",
    ")\n",
    "\n",
    "ggplot(data, aes(x = X, y = Y)) +\n",
    "  geom_point(color = \"blue\") +\n",
    "  geom_line(data = regression_line, aes(x = X, y = Y, color = \"Regression Line\"), linetype = \"dashed\") +\n",
    "  geom_line(data = pc1_line, aes(x = X, y = Y, color = \"First Principal Component\"), linetype = \"dotted\") +\n",
    "  labs(title = \"Scatter Plot with PCA and Regression Lines\", x = \"X\", y = \"Y\", color = \"Lines\") +\n",
    "  scale_color_manual(values = c(\"Regression Line\" = \"red\", \"First Principal Component\" = \"green\")) +\n",
    "  theme_minimal() +\n",
    "  theme(legend.position = \"bottom\")"
   ]
  },
  {
   "cell_type": "code",
   "execution_count": null,
   "id": "ca5f6b12-398c-4ece-8346-468b3b7176d5",
   "metadata": {},
   "outputs": [],
   "source": []
  }
 ],
 "metadata": {
  "kernelspec": {
   "display_name": "Python 3 (ipykernel)",
   "language": "python",
   "name": "python3"
  },
  "language_info": {
   "codemirror_mode": {
    "name": "ipython",
    "version": 3
   },
   "file_extension": ".py",
   "mimetype": "text/x-python",
   "name": "python",
   "nbconvert_exporter": "python",
   "pygments_lexer": "ipython3",
   "version": "3.12.3"
  }
 },
 "nbformat": 4,
 "nbformat_minor": 5
}
