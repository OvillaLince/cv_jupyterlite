{
 "cells": [
  {
   "cell_type": "markdown",
   "id": "5c0dce48-ad13-4afd-91b9-43aea3355d40",
   "metadata": {},
   "source": [
    "# Final Exam\n",
    "## Octavio Villalaz"
   ]
  },
  {
   "cell_type": "code",
   "execution_count": 18,
   "id": "f3aaac93-2fc1-4c48-a6a0-113ba16a2291",
   "metadata": {},
   "outputs": [],
   "source": [
    "#install.packages(c(\"caret\", \"e1071\", \"pROC\"))\n",
    "library(caret)\n",
    "library(pROC)\n",
    "\n",
    "diabetes_data <- read.csv(\"diabetes.csv\")\n",
    "columns_with_zero <- c('Glucose', 'BloodPressure', 'SkinThickness', 'Insulin', 'BMI')\n",
    "\n",
    "# Replace zero values with the median of the column\n",
    "for (col in columns_with_zero) {\n",
    "  diabetes_data[[col]][diabetes_data[[col]] == 0] <- median(diabetes_data[[col]][diabetes_data[[col]] != 0])\n",
    "}\n",
    "\n",
    "preproc <- preProcess(diabetes_data[, -9], method = c(\"center\", \"scale\"))\n",
    "diabetes_data[, -9] <- predict(preproc, diabetes_data[, -9])\n",
    "\n",
    "diabetes_data$Outcome <- factor(diabetes_data$Outcome, levels = c(0, 1), labels = c(\"No\", \"Yes\"))"
   ]
  },
  {
   "cell_type": "code",
   "execution_count": 22,
   "id": "c0cb1bf6-033b-46c2-9c08-16426842e519",
   "metadata": {},
   "outputs": [
    {
     "name": "stdout",
     "output_type": "stream",
     "text": [
      "k-Nearest Neighbors \n",
      "\n",
      "768 samples\n",
      "  8 predictor\n",
      "  2 classes: 'No', 'Yes' \n",
      "\n",
      "No pre-processing\n",
      "Resampling: Cross-Validated (10 fold) \n",
      "Summary of sample sizes: 691, 691, 691, 692, 692, 691, ... \n",
      "Resampling results across tuning parameters:\n",
      "\n",
      "  k  ROC        Sens   Spec     \n",
      "  5  0.7916410  0.818  0.5783476\n",
      "  7  0.8017778  0.830  0.6008547\n",
      "  9  0.8131011  0.840  0.5935897\n",
      "\n",
      "ROC was used to select the optimal model using the largest value.\n",
      "The final value used for the model was k = 9.\n"
     ]
    },
    {
     "name": "stderr",
     "output_type": "stream",
     "text": [
      "Setting levels: control = No, case = Yes\n",
      "\n",
      "Setting direction: controls < cases\n",
      "\n"
     ]
    },
    {
     "name": "stdout",
     "output_type": "stream",
     "text": [
      "K-Nearest Neighbors Model Performance (Cross-Validation):\n",
      "Accuracy: 0.8072917 \n",
      "Precision: 0.8371648 \n",
      "Recall: 0.874 \n",
      "F1 Score: 0.8551859 \n",
      "ROC-AUC: 0.8822873 \n"
     ]
    }
   ],
   "source": [
    "# 10-fold cross-validation\n",
    "control <- trainControl(method = \"cv\", number = 10, classProbs = TRUE, summaryFunction = twoClassSummary)\n",
    "\n",
    "#KNN\n",
    "model_knn <- train(as.factor(Outcome) ~ ., data = diabetes_data, method = \"knn\", trControl = control, metric = \"ROC\")\n",
    "print(model_knn)\n",
    "\n",
    "predictions <- predict(model_knn, diabetes_data)\n",
    "prob_predictions <- predict(model_knn, diabetes_data, type = \"prob\")[, 2]\n",
    "\n",
    "# Evaluate\n",
    "accuracy <- mean(predictions == diabetes_data$Outcome)\n",
    "confusion <- confusionMatrix(as.factor(predictions), as.factor(diabetes_data$Outcome))\n",
    "precision <- confusion$byClass[\"Pos Pred Value\"]\n",
    "recall <- confusion$byClass[\"Sensitivity\"]\n",
    "f1 <- 2 * (precision * recall) / (precision + recall)\n",
    "roc_auc <- roc(diabetes_data$Outcome, prob_predictions)$auc\n",
    "\n",
    "\n",
    "cat(\"K-Nearest Neighbors Model Performance (Cross-Validation):\\n\")\n",
    "cat(\"Accuracy:\", accuracy, \"\\n\")\n",
    "cat(\"Precision:\", precision, \"\\n\")\n",
    "cat(\"Recall:\", recall, \"\\n\")\n",
    "cat(\"F1 Score:\", f1, \"\\n\")\n",
    "cat(\"ROC-AUC:\", roc_auc, \"\\n\")"
   ]
  },
  {
   "cell_type": "markdown",
   "id": "a67d6b90-512b-4cda-b773-3960a9ae558a",
   "metadata": {},
   "source": [
    "Accuracy: The model correctly predicts the outcome 81% of the time.\n",
    "<br>\n",
    "Precision: When the model predicts a patient has diabetes, it is correct 84% of the time.\n",
    "<br>\n",
    "Recall: The model identifies 87% of the patients who actually have diabetes.\n",
    "<br>\n",
    "F1 Score: The harmonic mean of precision and recall, which balances the two, is 0.86.\n",
    "<br>\n",
    "ROC-AUC: The model has a strong ability to distinguish between patients with and without diabetes, with an area under the ROC curve of 0.88.\n",
    "<br>\n",
    "Cross-Validation: By using 10-fold cross-validation, the model's performance metrics are more robust and less likely to be biased due to the specific data split.\n",
    "<br>\n",
    "Balanced Performance: The model shows a good balance between precision and recall, which is crucial for medical diagnoses where both false positives and false negatives can have significant consequences."
   ]
  },
  {
   "cell_type": "code",
   "execution_count": null,
   "id": "9750c247-1ffc-4395-a0ec-1d54fe86c910",
   "metadata": {},
   "outputs": [],
   "source": []
  }
 ],
 "metadata": {
  "kernelspec": {
   "display_name": "R",
   "language": "R",
   "name": "ir"
  },
  "language_info": {
   "codemirror_mode": "r",
   "file_extension": ".r",
   "mimetype": "text/x-r-source",
   "name": "R",
   "pygments_lexer": "r",
   "version": "4.1.3"
  }
 },
 "nbformat": 4,
 "nbformat_minor": 5
}
